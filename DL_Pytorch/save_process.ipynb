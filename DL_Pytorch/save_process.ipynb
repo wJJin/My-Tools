{
 "cells": [
  {
   "cell_type": "code",
   "execution_count": 1,
   "metadata": {},
   "outputs": [],
   "source": [
    "import datetime\n",
    "import matplotlib.pyplot as plt"
   ]
  },
  {
   "cell_type": "code",
   "execution_count": 2,
   "metadata": {},
   "outputs": [],
   "source": [
    "# for segmentation works\n",
    "def show_result(val_labels, val_outputs, global_step):\n",
    "    plt.figure(2,figsize=(24,16))\n",
    "    plt.subplot(131)\n",
    "    plt.imshow(val_outputs[0,0,:,:].cpu())\n",
    "    plt.title('prediction')\n",
    "    plt.subplot(132)\n",
    "    plt.imshow((val_outputs[0,0,:,:]>.5).cpu())\n",
    "    plt.title('prediction > 0.5')\n",
    "    plt.subplot(133)\n",
    "    plt.imshow(val_labels[0,0,:,:].cpu())\n",
    "    plt.title('label')\n",
    "    tmpa = datetime.datetime.now().date()\n",
    "    plt.savefig(f'Result/{tmpa}_step_{global_step}.png')\n",
    "    plt.close(2)"
   ]
  }
 ],
 "metadata": {
  "kernelspec": {
   "display_name": "base",
   "language": "python",
   "name": "python3"
  },
  "language_info": {
   "codemirror_mode": {
    "name": "ipython",
    "version": 3
   },
   "file_extension": ".py",
   "mimetype": "text/x-python",
   "name": "python",
   "nbconvert_exporter": "python",
   "pygments_lexer": "ipython3",
   "version": "3.9.13 (main, Aug 25 2022, 18:29:29) \n[Clang 12.0.0 ]"
  },
  "orig_nbformat": 4,
  "vscode": {
   "interpreter": {
    "hash": "40d3a090f54c6569ab1632332b64b2c03c39dcf918b08424e98f38b5ae0af88f"
   }
  }
 },
 "nbformat": 4,
 "nbformat_minor": 2
}
