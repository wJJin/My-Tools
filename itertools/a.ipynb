{
 "cells": [
  {
   "cell_type": "code",
   "execution_count": 1,
   "metadata": {},
   "outputs": [],
   "source": [
    "import random"
   ]
  },
  {
   "cell_type": "code",
   "execution_count": 14,
   "metadata": {},
   "outputs": [
    {
     "name": "stdout",
     "output_type": "stream",
     "text": [
      "['6', '4', '6', '1', '5', '3', '6', '5', '4', '3']\n"
     ]
    }
   ],
   "source": [
    "# Randomly draw permutations with repetition\n",
    "num_list = ['1','2','3','4','5','6']\n",
    "tn = 10\n",
    "\n",
    "out = random.choices(num_list, k=tn)\n",
    "# out = [random.choice(num_list) for i in range(tn)]\n",
    "print(out)"
   ]
  },
  {
   "cell_type": "code",
   "execution_count": 16,
   "metadata": {},
   "outputs": [
    {
     "name": "stdout",
     "output_type": "stream",
     "text": [
      "['4', '1', '6', '5']\n"
     ]
    }
   ],
   "source": [
    "# Randomly draw combinations\n",
    "num_list = ['1','2','3','4','5','6']\n",
    "tn = 4\n",
    "\n",
    "out = random.sample(num_list, tn)\n",
    "print(out)"
   ]
  }
 ],
 "metadata": {
  "kernelspec": {
   "display_name": "Python 3",
   "language": "python",
   "name": "python3"
  },
  "language_info": {
   "codemirror_mode": {
    "name": "ipython",
    "version": 3
   },
   "file_extension": ".py",
   "mimetype": "text/x-python",
   "name": "python",
   "nbconvert_exporter": "python",
   "pygments_lexer": "ipython3",
   "version": "3.8.9"
  },
  "orig_nbformat": 4,
  "vscode": {
   "interpreter": {
    "hash": "31f2aee4e71d21fbe5cf8b01ff0e069b9275f58929596ceb00d14d90e3e16cd6"
   }
  }
 },
 "nbformat": 4,
 "nbformat_minor": 2
}
